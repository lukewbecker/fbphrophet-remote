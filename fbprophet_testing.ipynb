{
 "cells": [
  {
   "cell_type": "raw",
   "metadata": {},
   "source": [
    "import numpy as np\n",
    "import pandas as pd\n",
    "from pandas_datareader import data\n",
    "import matplotlib.pyplot as plt\n",
    "from datetime import datetime\n",
    "from datetime import timedelta"
   ]
  },
  {
   "cell_type": "code",
   "execution_count": 2,
   "metadata": {},
   "outputs": [],
   "source": [
    "from fbprophet import Prophet\n",
    "from sklearn.metrics import mean_squared_error"
   ]
  },
  {
   "cell_type": "code",
   "execution_count": 3,
   "metadata": {},
   "outputs": [],
   "source": [
    "# Going to use Tesla as the stock I work with\n",
    "\n",
    "ticker = \"TSLA\"\n",
    "start_date = '2017-11-30'\n",
    "end_date = '2020-11-30'"
   ]
  },
  {
   "cell_type": "code",
   "execution_count": null,
   "metadata": {},
   "outputs": [],
   "source": [
    "stock_date = data.DataReader(ticker, 'iex', start_date, end_date)\n",
    "print(stock_date.shape)\n",
    "stock_date.head()"
   ]
  },
  {
   "cell_type": "code",
   "execution_count": 2,
   "metadata": {},
   "outputs": [],
   "source": [
    "# Try using another aggregation api."
   ]
  },
  {
   "cell_type": "code",
   "execution_count": 1,
   "metadata": {},
   "outputs": [],
   "source": [
    "# Need to build out the RSI for this project as well."
   ]
  },
  {
   "cell_type": "code",
   "execution_count": 7,
   "metadata": {},
   "outputs": [],
   "source": [
    "from fbprophet import Prophet\n",
    "from sklearn.metrics import mean_squared_error\n",
    "import yahoo_finance as yf"
   ]
  },
  {
   "cell_type": "code",
   "execution_count": 9,
   "metadata": {},
   "outputs": [
    {
     "data": {
      "text/plain": [
       "<fbprophet.forecaster.Prophet at 0x7fadf8d32950>"
      ]
     },
     "execution_count": 9,
     "metadata": {},
     "output_type": "execute_result"
    }
   ],
   "source": [
    "m = Prophet(weekly_seasonality=False,yearly_seasonality=False)\n",
    "m.add_seasonality('self_define_cycle',period=8,fourier_order=8,mode='additive')"
   ]
  },
  {
   "cell_type": "code",
   "execution_count": 1,
   "metadata": {},
   "outputs": [],
   "source": [
    "#import the libraries\n",
    "import math\n",
    "import warnings\n",
    "import datetime \n",
    "import numpy as np\n",
    "import pandas as pd\n",
    "import matplotlib.pyplot as plt\n",
    "from tensorflow.keras import Sequential\n",
    "from pandas_datareader import DataReader\n",
    "from sklearn.preprocessing import MinMaxScaler\n",
    "from sklearn.metrics import mean_squared_error\n",
    "from tensorflow.keras.layers import Dense, LSTM\n",
    "\n",
    "warnings.filterwarnings(\"ignore\")"
   ]
  },
  {
   "cell_type": "code",
   "execution_count": 2,
   "metadata": {},
   "outputs": [
    {
     "name": "stdout",
     "output_type": "stream",
     "text": [
      "Enter a stock ticker: AAPL\n"
     ]
    }
   ],
   "source": [
    "#get the stock quote for the past 10 years\n",
    "stock = input(\"Enter a stock ticker: \")\n",
    "num_of_years = 10\n",
    "start_date = datetime.datetime.now() - datetime.timedelta(days=int(365.25*num_of_years))\n",
    "end_date = datetime.date.today()"
   ]
  },
  {
   "cell_type": "code",
   "execution_count": 3,
   "metadata": {},
   "outputs": [],
   "source": [
    "df = DataReader(stock, \"yahoo\", start_date, end_date)\n",
    "data = df.filter(['Close'])\n",
    "dataset = data.values\n",
    "train_data_len = math.ceil(len(dataset)*.8)"
   ]
  },
  {
   "cell_type": "code",
   "execution_count": 4,
   "metadata": {},
   "outputs": [
    {
     "data": {
      "text/html": [
       "<div>\n",
       "<style scoped>\n",
       "    .dataframe tbody tr th:only-of-type {\n",
       "        vertical-align: middle;\n",
       "    }\n",
       "\n",
       "    .dataframe tbody tr th {\n",
       "        vertical-align: top;\n",
       "    }\n",
       "\n",
       "    .dataframe thead th {\n",
       "        text-align: right;\n",
       "    }\n",
       "</style>\n",
       "<table border=\"1\" class=\"dataframe\">\n",
       "  <thead>\n",
       "    <tr style=\"text-align: right;\">\n",
       "      <th></th>\n",
       "      <th>High</th>\n",
       "      <th>Low</th>\n",
       "      <th>Open</th>\n",
       "      <th>Close</th>\n",
       "      <th>Volume</th>\n",
       "      <th>Adj Close</th>\n",
       "    </tr>\n",
       "    <tr>\n",
       "      <th>Date</th>\n",
       "      <th></th>\n",
       "      <th></th>\n",
       "      <th></th>\n",
       "      <th></th>\n",
       "      <th></th>\n",
       "      <th></th>\n",
       "    </tr>\n",
       "  </thead>\n",
       "  <tbody>\n",
       "    <tr>\n",
       "      <th>2010-12-27</th>\n",
       "      <td>11.622857</td>\n",
       "      <td>11.482857</td>\n",
       "      <td>11.530357</td>\n",
       "      <td>11.595715</td>\n",
       "      <td>249816000.0</td>\n",
       "      <td>10.003056</td>\n",
       "    </tr>\n",
       "    <tr>\n",
       "      <th>2010-12-28</th>\n",
       "      <td>11.666429</td>\n",
       "      <td>11.609285</td>\n",
       "      <td>11.639643</td>\n",
       "      <td>11.623929</td>\n",
       "      <td>175924000.0</td>\n",
       "      <td>10.027392</td>\n",
       "    </tr>\n",
       "    <tr>\n",
       "      <th>2010-12-29</th>\n",
       "      <td>11.658929</td>\n",
       "      <td>11.610714</td>\n",
       "      <td>11.650714</td>\n",
       "      <td>11.617500</td>\n",
       "      <td>163139200.0</td>\n",
       "      <td>10.021846</td>\n",
       "    </tr>\n",
       "    <tr>\n",
       "      <th>2010-12-30</th>\n",
       "      <td>11.625357</td>\n",
       "      <td>11.537500</td>\n",
       "      <td>11.624286</td>\n",
       "      <td>11.559286</td>\n",
       "      <td>157494400.0</td>\n",
       "      <td>9.971630</td>\n",
       "    </tr>\n",
       "    <tr>\n",
       "      <th>2010-12-31</th>\n",
       "      <td>11.552857</td>\n",
       "      <td>11.475357</td>\n",
       "      <td>11.533929</td>\n",
       "      <td>11.520000</td>\n",
       "      <td>193508000.0</td>\n",
       "      <td>9.937736</td>\n",
       "    </tr>\n",
       "    <tr>\n",
       "      <th>...</th>\n",
       "      <td>...</td>\n",
       "      <td>...</td>\n",
       "      <td>...</td>\n",
       "      <td>...</td>\n",
       "      <td>...</td>\n",
       "      <td>...</td>\n",
       "    </tr>\n",
       "    <tr>\n",
       "      <th>2020-12-17</th>\n",
       "      <td>129.580002</td>\n",
       "      <td>128.039993</td>\n",
       "      <td>128.899994</td>\n",
       "      <td>128.699997</td>\n",
       "      <td>94359800.0</td>\n",
       "      <td>128.699997</td>\n",
       "    </tr>\n",
       "    <tr>\n",
       "      <th>2020-12-18</th>\n",
       "      <td>129.100006</td>\n",
       "      <td>126.120003</td>\n",
       "      <td>128.960007</td>\n",
       "      <td>126.660004</td>\n",
       "      <td>192541500.0</td>\n",
       "      <td>126.660004</td>\n",
       "    </tr>\n",
       "    <tr>\n",
       "      <th>2020-12-21</th>\n",
       "      <td>128.309998</td>\n",
       "      <td>123.449997</td>\n",
       "      <td>125.019997</td>\n",
       "      <td>128.229996</td>\n",
       "      <td>121251600.0</td>\n",
       "      <td>128.229996</td>\n",
       "    </tr>\n",
       "    <tr>\n",
       "      <th>2020-12-22</th>\n",
       "      <td>134.410004</td>\n",
       "      <td>129.649994</td>\n",
       "      <td>131.610001</td>\n",
       "      <td>131.880005</td>\n",
       "      <td>168904800.0</td>\n",
       "      <td>131.880005</td>\n",
       "    </tr>\n",
       "    <tr>\n",
       "      <th>2020-12-23</th>\n",
       "      <td>132.419998</td>\n",
       "      <td>130.779999</td>\n",
       "      <td>132.160004</td>\n",
       "      <td>130.960007</td>\n",
       "      <td>84060162.0</td>\n",
       "      <td>130.960007</td>\n",
       "    </tr>\n",
       "  </tbody>\n",
       "</table>\n",
       "<p>2517 rows × 6 columns</p>\n",
       "</div>"
      ],
      "text/plain": [
       "                  High         Low        Open       Close       Volume  \\\n",
       "Date                                                                      \n",
       "2010-12-27   11.622857   11.482857   11.530357   11.595715  249816000.0   \n",
       "2010-12-28   11.666429   11.609285   11.639643   11.623929  175924000.0   \n",
       "2010-12-29   11.658929   11.610714   11.650714   11.617500  163139200.0   \n",
       "2010-12-30   11.625357   11.537500   11.624286   11.559286  157494400.0   \n",
       "2010-12-31   11.552857   11.475357   11.533929   11.520000  193508000.0   \n",
       "...                ...         ...         ...         ...          ...   \n",
       "2020-12-17  129.580002  128.039993  128.899994  128.699997   94359800.0   \n",
       "2020-12-18  129.100006  126.120003  128.960007  126.660004  192541500.0   \n",
       "2020-12-21  128.309998  123.449997  125.019997  128.229996  121251600.0   \n",
       "2020-12-22  134.410004  129.649994  131.610001  131.880005  168904800.0   \n",
       "2020-12-23  132.419998  130.779999  132.160004  130.960007   84060162.0   \n",
       "\n",
       "             Adj Close  \n",
       "Date                    \n",
       "2010-12-27   10.003056  \n",
       "2010-12-28   10.027392  \n",
       "2010-12-29   10.021846  \n",
       "2010-12-30    9.971630  \n",
       "2010-12-31    9.937736  \n",
       "...                ...  \n",
       "2020-12-17  128.699997  \n",
       "2020-12-18  126.660004  \n",
       "2020-12-21  128.229996  \n",
       "2020-12-22  131.880005  \n",
       "2020-12-23  130.960007  \n",
       "\n",
       "[2517 rows x 6 columns]"
      ]
     },
     "execution_count": 4,
     "metadata": {},
     "output_type": "execute_result"
    }
   ],
   "source": [
    "df"
   ]
  },
  {
   "cell_type": "code",
   "execution_count": 8,
   "metadata": {},
   "outputs": [
    {
     "name": "stdout",
     "output_type": "stream",
     "text": [
      "\n",
      "\n"
     ]
    }
   ],
   "source": [
    "#scale the data\n",
    "scaler = MinMaxScaler(feature_range=(0,1))\n",
    "scaled_data = scaler.fit_transform(dataset)\n",
    "\n",
    "#create the training dataset\n",
    "train_data = scaled_data[0:train_data_len, :]\n",
    "\n",
    "#split the data into x_train and y_train dataset\n",
    "x_train=[]\n",
    "y_train=[]\n",
    "\n",
    "for i in range(60,len(train_data)):\n",
    "    x_train.append(train_data[i-60:i, 0])\n",
    "    y_train.append(train_data[i, 0])\n",
    "    if i<=61:\n",
    "        #print(x_train)\n",
    "        #print(y_train)\n",
    "        print()\n",
    "\n",
    "#convert x_train and y_train to numpy arrays\n",
    "x_train, y_train = np.array(x_train), np.array(y_train)\n",
    "\n",
    "#reshape the data to 3 dimension\n",
    "x_train = np.reshape(x_train, (x_train.shape[0], x_train.shape[1], 1))"
   ]
  },
  {
   "cell_type": "code",
   "execution_count": 10,
   "metadata": {},
   "outputs": [
    {
     "name": "stdout",
     "output_type": "stream",
     "text": [
      "Epoch 1/5\n",
      "1954/1954 [==============================] - 27s 14ms/step - loss: 2.4875e-04 - accuracy: 5.1177e-04\n",
      "Epoch 2/5\n",
      "1954/1954 [==============================] - 29s 15ms/step - loss: 1.1464e-04 - accuracy: 5.1177e-04\n",
      "Epoch 3/5\n",
      "1954/1954 [==============================] - 30s 15ms/step - loss: 9.4276e-05 - accuracy: 5.1177e-04\n",
      "Epoch 4/5\n",
      "1954/1954 [==============================] - 28s 15ms/step - loss: 7.2183e-05 - accuracy: 5.1177e-04\n",
      "Epoch 5/5\n",
      "1954/1954 [==============================] - 30s 15ms/step - loss: 6.1708e-05 - accuracy: 5.1177e-04\n"
     ]
    }
   ],
   "source": [
    "#build LSTM model\n",
    "model = Sequential()\n",
    "model.add(LSTM(50, return_sequences=True, input_shape=(x_train.shape[1],1)))\n",
    "model.add(LSTM(50,return_sequences=False))\n",
    "\n",
    "model.add(Dense(25))\n",
    "model.add(Dense(1))\n",
    "\n",
    "#compile the model\n",
    "model.compile(optimizer='adam', loss='mean_squared_error', metrics=['accuracy'])\n",
    "\n",
    "#train the model\n",
    "model.fit(x_train, y_train, batch_size=1, epochs=5)\n",
    "\n",
    "#create test dataset\n",
    "test_data = scaled_data[train_data_len-60:, :]\n",
    "\n",
    "#create dataset x_test, y_test\n",
    "x_test = []\n",
    "y_test = dataset[train_data_len:, :]\n",
    "for i in range(60,len(test_data)):\n",
    "    x_test.append(test_data[i-60:i, 0])\n",
    "\n",
    "#convert data to numpy array\n",
    "x_test = np.array(x_test)\n",
    "\n",
    "#reshape the data\n",
    "x_test = np.reshape(x_test, (x_test.shape[0], x_test.shape[1], 1))\n",
    "\n",
    "#get the models predicted price values\n",
    "predictions = model.predict(x_test)\n",
    "predictions = scaler.inverse_transform(predictions)"
   ]
  },
  {
   "cell_type": "code",
   "execution_count": null,
   "metadata": {},
   "outputs": [],
   "source": []
  }
 ],
 "metadata": {
  "kernelspec": {
   "display_name": "Python 3",
   "language": "python",
   "name": "python3"
  },
  "language_info": {
   "codemirror_mode": {
    "name": "ipython",
    "version": 3
   },
   "file_extension": ".py",
   "mimetype": "text/x-python",
   "name": "python",
   "nbconvert_exporter": "python",
   "pygments_lexer": "ipython3",
   "version": "3.7.9"
  }
 },
 "nbformat": 4,
 "nbformat_minor": 4
}
